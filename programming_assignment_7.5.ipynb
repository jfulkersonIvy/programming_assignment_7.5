{
 "cells": [
  {
   "cell_type": "code",
   "execution_count": 1,
   "id": "cd23ed66",
   "metadata": {},
   "outputs": [],
   "source": [
    "from cmath import pi, tan"
   ]
  },
  {
   "cell_type": "code",
   "execution_count": 2,
   "id": "fff01576",
   "metadata": {},
   "outputs": [],
   "source": [
    "class RegularPolygon:\n",
    "    def __init__(self, __n = 3, __side = 1, __x = 0, __y = 0):\n",
    "        self.__n = __n\n",
    "        self.__side = __side\n",
    "        self.__x = __x\n",
    "        self.__y = __y\n",
    "\n",
    "    def getN(self):\n",
    "        return self.__n\n",
    "\n",
    "    def getSide(self):\n",
    "        return self.__side\n",
    "\n",
    "    def getX(self):\n",
    "        return self.__x\n",
    "\n",
    "    def getY(self):\n",
    "        return self.__y\n",
    "\n",
    "    def setN(self, n):\n",
    "        self.__n = n\n",
    "\n",
    "    def setSide(self, side):\n",
    "        self.__side = side\n",
    "    \n",
    "    def setX(self, x):\n",
    "        self.__x = x\n",
    "\n",
    "    def setY(self, y):\n",
    "        self.__y = y\n",
    "\n",
    "    def getPerimeter(self, __n, __side):\n",
    "        self.perimeter = __n * __side\n",
    "        return self.perimeter\n",
    "\n",
    "    def getArea(self, __n, __side):\n",
    "        self.area = (__n * (__side * __side) / (4 * tan (pi / __n)))\n",
    "        return self.area"
   ]
  },
  {
   "cell_type": "code",
   "execution_count": 3,
   "id": "b242ac23",
   "metadata": {},
   "outputs": [],
   "source": [
    "polygon1 = RegularPolygon()"
   ]
  },
  {
   "cell_type": "code",
   "execution_count": 4,
   "id": "0ff2dffb",
   "metadata": {},
   "outputs": [],
   "source": [
    "polygon2 = RegularPolygon(6, 4)"
   ]
  },
  {
   "cell_type": "code",
   "execution_count": 5,
   "id": "c8d3b243",
   "metadata": {},
   "outputs": [],
   "source": [
    "polygon3 = RegularPolygon(10, 4, 5.6, 7.8)"
   ]
  },
  {
   "cell_type": "code",
   "execution_count": 6,
   "id": "b1d70db0",
   "metadata": {},
   "outputs": [
    {
     "name": "stdout",
     "output_type": "stream",
     "text": [
      "Polygon 1 perimeter: 3\n",
      "Polygon 1 area: (0.43301270189221946+0j)\n",
      "Polygon 2 perimeter: 24\n",
      "Polygon 2 area: (41.569219381653056+0j)\n",
      "Polygon 3 perimeter: 40\n",
      "Polygon 3 area: (123.10734148701015+0j)\n"
     ]
    }
   ],
   "source": [
    "print(f\"Polygon 1 perimeter: {polygon1.getPerimeter(polygon1.getN(), polygon1.getSide())}\")\n",
    "print(f\"Polygon 1 area: {polygon1.getArea(polygon1.getN(), polygon1.getSide())}\")\n",
    "\n",
    "print(f\"Polygon 2 perimeter: {polygon2.getPerimeter(polygon2.getN(), polygon2.getSide())}\")\n",
    "print(f\"Polygon 2 area: {polygon2.getArea(polygon2.getN(), polygon2.getSide())}\")\n",
    "\n",
    "print(f\"Polygon 3 perimeter: {polygon3.getPerimeter(polygon3.getN(), polygon3.getSide())}\")\n",
    "print(f\"Polygon 3 area: {polygon3.getArea(polygon3.getN(), polygon3.getSide())}\")"
   ]
  },
  {
   "cell_type": "code",
   "execution_count": null,
   "id": "c4a86b3a",
   "metadata": {},
   "outputs": [],
   "source": []
  }
 ],
 "metadata": {
  "kernelspec": {
   "display_name": "Python 3 (ipykernel)",
   "language": "python",
   "name": "python3"
  },
  "language_info": {
   "codemirror_mode": {
    "name": "ipython",
    "version": 3
   },
   "file_extension": ".py",
   "mimetype": "text/x-python",
   "name": "python",
   "nbconvert_exporter": "python",
   "pygments_lexer": "ipython3",
   "version": "3.9.12"
  }
 },
 "nbformat": 4,
 "nbformat_minor": 5
}
